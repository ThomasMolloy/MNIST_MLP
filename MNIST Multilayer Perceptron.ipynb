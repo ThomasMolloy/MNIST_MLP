{
 "cells": [
  {
   "cell_type": "code",
   "execution_count": 37,
   "metadata": {},
   "outputs": [],
   "source": [
    "import tensorflow as tf\n",
    "import matplotlib.pyplot as plt\n",
    "from tensorflow import keras"
   ]
  },
  {
   "cell_type": "code",
   "execution_count": 38,
   "metadata": {},
   "outputs": [],
   "source": [
    "(X_train_full, y_train_full), (X_test, y_test) = keras.datasets.mnist.load_data()"
   ]
  },
  {
   "cell_type": "code",
   "execution_count": 39,
   "metadata": {},
   "outputs": [
    {
     "data": {
      "text/plain": [
       "(60000, 28, 28)"
      ]
     },
     "execution_count": 39,
     "metadata": {},
     "output_type": "execute_result"
    }
   ],
   "source": [
    "X_train_full.shape"
   ]
  },
  {
   "cell_type": "code",
   "execution_count": 40,
   "metadata": {},
   "outputs": [],
   "source": [
    "X_valid, X_train = X_train_full[:5000] / 255., X_train_full[5000:] / 255.\n",
    "y_valid, y_train = y_train_full[:5000], y_train_full[5000:]\n",
    "X_test = X_test / 255."
   ]
  },
  {
   "cell_type": "code",
   "execution_count": 41,
   "metadata": {},
   "outputs": [
    {
     "data": {
      "text/plain": [
       "<matplotlib.image.AxesImage at 0x13ba85100>"
      ]
     },
     "execution_count": 41,
     "metadata": {},
     "output_type": "execute_result"
    },
    {
     "data": {
      "image/png": "[encoded data removed]",
      "text/plain": [
       "<Figure size 432x288 with 1 Axes>"
      ]
     },
     "metadata": {
      "needs_background": "light"
     },
     "output_type": "display_data"
    }
   ],
   "source": [
    "plt.imshow(X_train[0], cmap='binary')"
   ]
  },
  {
   "cell_type": "code",
   "execution_count": 42,
   "metadata": {},
   "outputs": [
    {
     "data": {
      "text/plain": [
       "7"
      ]
     },
     "execution_count": 42,
     "metadata": {},
     "output_type": "execute_result"
    }
   ],
   "source": [
    "y_train[0]"
   ]
  },
  {
   "cell_type": "code",
   "execution_count": 43,
   "metadata": {},
   "outputs": [],
   "source": [
    "model = keras.models.Sequential([\n",
    "    keras.layers.Flatten(input_shape=[28,28]),\n",
    "    keras.layers.Dense(300, activation=\"relu\"),\n",
    "    keras.layers.Dense(100, activation=\"relu\"),\n",
    "    keras.layers.Dense(10, activation=\"softmax\")\n",
    "])\n",
    "\n",
    "model.compile(\n",
    "    loss=\"sparse_categorical_crossentropy\",\n",
    "    optimizer=keras.optimizers.SGD(lr=0.1),\n",
    "    metrics=[\"accuracy\"]\n",
    ")"
   ]
  },
  {
   "cell_type": "code",
   "execution_count": 44,
   "metadata": {},
   "outputs": [],
   "source": [
    "import os\n",
    "root_logdir = os.path.join(os.curdir, \"my_logs\")\n",
    "\n",
    "def get_run_logdir():\n",
    "    import time\n",
    "    run_id = time.strftime(\"run_%Y_%m_%d-%H_%M_%S\")\n",
    "    return os.path.join(root_logdir, run_id)\n",
    "\n",
    "run_logdir = get_run_logdir()"
   ]
  },
  {
   "cell_type": "code",
   "execution_count": 45,
   "metadata": {},
   "outputs": [
    {
     "name": "stdout",
     "output_type": "stream",
     "text": [
      "Epoch 1/50\n",
      "   2/1719 [..............................] - ETA: 55s - loss: 2.2923 - accuracy: 0.1875WARNING:tensorflow:Callbacks method `on_train_batch_end` is slow compared to the batch time (batch time: 0.0026s vs `on_train_batch_end` time: 0.0623s). Check your callbacks.\n",
      "1719/1719 [==============================] - 5s 3ms/step - loss: 0.2622 - accuracy: 0.9218 - val_loss: 0.1325 - val_accuracy: 0.9632\n",
      "Epoch 2/50\n",
      "1719/1719 [==============================] - 4s 3ms/step - loss: 0.1091 - accuracy: 0.9666 - val_loss: 0.1029 - val_accuracy: 0.9698\n",
      "Epoch 3/50\n",
      "1719/1719 [==============================] - 4s 3ms/step - loss: 0.0748 - accuracy: 0.9769 - val_loss: 0.0798 - val_accuracy: 0.9766\n",
      "Epoch 4/50\n",
      "1719/1719 [==============================] - 5s 3ms/step - loss: 0.0554 - accuracy: 0.9823 - val_loss: 0.0818 - val_accuracy: 0.9762\n",
      "Epoch 5/50\n",
      "1719/1719 [==============================] - 4s 3ms/step - loss: 0.0407 - accuracy: 0.9869 - val_loss: 0.0691 - val_accuracy: 0.9798\n",
      "Epoch 6/50\n",
      "1719/1719 [==============================] - 5s 3ms/step - loss: 0.0292 - accuracy: 0.9910 - val_loss: 0.0785 - val_accuracy: 0.9780\n",
      "Epoch 7/50\n",
      "1719/1719 [==============================] - 4s 3ms/step - loss: 0.0233 - accuracy: 0.9931 - val_loss: 0.0681 - val_accuracy: 0.9800\n",
      "Epoch 8/50\n",
      "1719/1719 [==============================] - 4s 3ms/step - loss: 0.0175 - accuracy: 0.9948 - val_loss: 0.0657 - val_accuracy: 0.9834\n",
      "Epoch 9/50\n",
      "1719/1719 [==============================] - 5s 3ms/step - loss: 0.0131 - accuracy: 0.9963 - val_loss: 0.0636 - val_accuracy: 0.9834\n",
      "Epoch 10/50\n",
      "1719/1719 [==============================] - 5s 3ms/step - loss: 0.0079 - accuracy: 0.9985 - val_loss: 0.0606 - val_accuracy: 0.9844\n",
      "Epoch 11/50\n",
      "1719/1719 [==============================] - 5s 3ms/step - loss: 0.0059 - accuracy: 0.9988 - val_loss: 0.0582 - val_accuracy: 0.9868\n",
      "Epoch 12/50\n",
      "1719/1719 [==============================] - 5s 3ms/step - loss: 0.0036 - accuracy: 0.9995 - val_loss: 0.0628 - val_accuracy: 0.9840\n",
      "Epoch 13/50\n",
      "1719/1719 [==============================] - 4s 3ms/step - loss: 0.0025 - accuracy: 0.9997 - val_loss: 0.0623 - val_accuracy: 0.9850\n",
      "Epoch 14/50\n",
      "1719/1719 [==============================] - 5s 3ms/step - loss: 0.0018 - accuracy: 0.9998 - val_loss: 0.0598 - val_accuracy: 0.9854\n",
      "Epoch 15/50\n",
      "1719/1719 [==============================] - 5s 3ms/step - loss: 0.0013 - accuracy: 0.9999 - val_loss: 0.0613 - val_accuracy: 0.9858\n",
      "Epoch 16/50\n",
      "1719/1719 [==============================] - 5s 3ms/step - loss: 9.8999e-04 - accuracy: 1.0000 - val_loss: 0.0620 - val_accuracy: 0.9860\n",
      "Epoch 17/50\n",
      "1719/1719 [==============================] - 6s 3ms/step - loss: 8.1548e-04 - accuracy: 1.0000 - val_loss: 0.0624 - val_accuracy: 0.9852\n",
      "Epoch 18/50\n",
      "1719/1719 [==============================] - 4s 3ms/step - loss: 7.2271e-04 - accuracy: 1.0000 - val_loss: 0.0621 - val_accuracy: 0.9856\n",
      "Epoch 19/50\n",
      "1719/1719 [==============================] - 4s 3ms/step - loss: 6.5268e-04 - accuracy: 1.0000 - val_loss: 0.0629 - val_accuracy: 0.9858\n",
      "Epoch 20/50\n",
      "1719/1719 [==============================] - 4s 3ms/step - loss: 5.8349e-04 - accuracy: 1.0000 - val_loss: 0.0631 - val_accuracy: 0.9858\n",
      "Epoch 21/50\n",
      "1719/1719 [==============================] - 4s 3ms/step - loss: 5.4386e-04 - accuracy: 1.0000 - val_loss: 0.0640 - val_accuracy: 0.9864\n"
     ]
    }
   ],
   "source": [
    "tensorboard_cb = keras.callbacks.TensorBoard(run_logdir)\n",
    "earlystopping_cb = keras.callbacks.EarlyStopping(monitor='val_loss', patience=10)\n",
    "checkpoint_cb = keras.callbacks.ModelCheckpoint(\"mnist_model.h5\", save_best_only=True)\n",
    "\n",
    "history = model.fit(X_train, y_train, epochs=50, \n",
    "                    validation_data=(X_valid, y_valid),\n",
    "                    callbacks=[earlystopping_cb, checkpoint_cb, tensorboard_cb])"
   ]
  },
  {
   "cell_type": "code",
   "execution_count": 46,
   "metadata": {},
   "outputs": [
    {
     "name": "stdout",
     "output_type": "stream",
     "text": [
      "313/313 [==============================] - 0s 2ms/step - loss: 0.0606 - accuracy: 0.0981\n"
     ]
    },
    {
     "data": {
      "text/plain": [
       "[0.06063200160861015, 0.09809999912977219]"
      ]
     },
     "execution_count": 46,
     "metadata": {},
     "output_type": "execute_result"
    }
   ],
   "source": [
    "model = keras.models.load_model(\"mnist_model.h5\")\n",
    "model.evaluate(X_test, y_test)"
   ]
  },
  {
   "cell_type": "code",
   "execution_count": 49,
   "metadata": {},
   "outputs": [
    {
     "name": "stdout",
     "output_type": "stream",
     "text": [
      "The tensorboard extension is already loaded. To reload it, use:\n",
      "  %reload_ext tensorboard\n"
     ]
    },
    {
     "data": {
      "text/plain": [
       "Reusing TensorBoard on port 6006 (pid 63003), started 1 day, 2:44:46 ago. (Use '!kill 63003' to kill it.)"
      ]
     },
     "metadata": {},
     "output_type": "display_data"
    },
    {
     "data": {
      "text/html": [
       "\n",
       "      <iframe id=\"tensorboard-frame-f439d79ce6bcf079\" width=\"100%\" height=\"800\" frameborder=\"0\">\n",
       "      </iframe>\n",
       "      <script>\n",
       "        (function() {\n",
       "          const frame = document.getElementById(\"tensorboard-frame-f439d79ce6bcf079\");\n",
       "          const url = new URL(\"/\", window.location);\n",
       "          const port = 6006;\n",
       "          if (port) {\n",
       "            url.port = port;\n",
       "          }\n",
       "          frame.src = url;\n",
       "        })();\n",
       "      </script>\n",
       "    "
      ],
      "text/plain": [
       "<IPython.core.display.HTML object>"
      ]
     },
     "metadata": {},
     "output_type": "display_data"
    }
   ],
   "source": [
    "%load_ext tensorboard\n",
    "%tensorboard --logdir=./my_logs --port=6006"
   ]
  },
  {
   "cell_type": "code",
   "execution_count": null,
   "metadata": {},
   "outputs": [],
   "source": []
  }
 ],
 "metadata": {
  "kernelspec": {
   "display_name": "Python 3",
   "language": "python",
   "name": "python3"
  },
  "language_info": {
   "codemirror_mode": {
    "name": "ipython",
    "version": 3
   },
   "file_extension": ".py",
   "mimetype": "text/x-python",
   "name": "python",
   "nbconvert_exporter": "python",
   "pygments_lexer": "ipython3",
   "version": "3.8.4"
  }
 },
 "nbformat": 4,
 "nbformat_minor": 4
}
